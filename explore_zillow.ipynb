{
 "cells": [
  {
   "cell_type": "code",
   "execution_count": 44,
   "metadata": {},
   "outputs": [],
   "source": [
    "#standard for DS\n",
    "import pandas as pd\n",
    "import numpy as np\n",
    "\n",
    "#viz and stats\n",
    "import seaborn as sns\n",
    "import matplotlib.pyplot as plt\n",
    "from scipy import stats\n",
    "\n",
    "#splits, scale\n",
    "from sklearn.model_selection import train_test_split\n",
    "from sklearn.preprocessing import MinMaxScaler\n",
    "\n",
    "# helpers\n",
    "import wrangle\n",
    "import explore\n",
    "\n",
    "# Shhhh\n",
    "import warnings\n",
    "warnings.filterwarnings(\"ignore\")"
   ]
  },
  {
   "cell_type": "markdown",
   "metadata": {},
   "source": [
    "-----"
   ]
  },
  {
   "cell_type": "markdown",
   "metadata": {},
   "source": [
    "##### Sourcing the Zillow database as the data source, create a jupyter notebook named explore_zillow and do the following:\n"
   ]
  },
  {
   "cell_type": "code",
   "execution_count": 45,
   "metadata": {},
   "outputs": [],
   "source": [
    "df = wrangle.get_zillow_data()"
   ]
  },
  {
   "cell_type": "code",
   "execution_count": 46,
   "metadata": {},
   "outputs": [],
   "source": [
    "df = df[df.bedroomcnt != 0]"
   ]
  },
  {
   "cell_type": "code",
   "execution_count": 47,
   "metadata": {},
   "outputs": [],
   "source": [
    "df = df[df.bathroomcnt != 0]"
   ]
  },
  {
   "cell_type": "markdown",
   "metadata": {},
   "source": [
    "> I'm sorry, but if you have no bedrooms or no bathrooms, you aren't a single family residence, you're like a hunting cabin or hostel room."
   ]
  },
  {
   "cell_type": "code",
   "execution_count": 48,
   "metadata": {},
   "outputs": [
    {
     "data": {
      "text/plain": [
       "(array([ 4.,  2.,  3.,  6.,  5.,  1.,  7.,  8., 12., 10.,  9., 14., 11.,\n",
       "        16., 13.]),\n",
       " array([ 3.5,  1. ,  2. ,  3. ,  2.5,  4.5,  4. ,  5. ,  6.5,  1.5,  6. ,\n",
       "         5.5,  7. ,  9. ,  8. , 10. , 11. , 18. ,  7.5, 13. ,  8.5]))"
      ]
     },
     "execution_count": 48,
     "metadata": {},
     "output_type": "execute_result"
    }
   ],
   "source": [
    "df.bedroomcnt.unique(), df.bathroomcnt.unique()"
   ]
  },
  {
   "cell_type": "code",
   "execution_count": 49,
   "metadata": {},
   "outputs": [
    {
     "data": {
      "text/plain": [
       "array(['Single Family Residential', 'Condominium',\n",
       "       'Duplex (2 Units, Any Combination)', 'Planned Unit Development',\n",
       "       'Triplex (3 Units, Any Combination)',\n",
       "       'Quadruplex (4 Units, Any Combination)', 'Cluster Home',\n",
       "       'Cooperative', 'Residential General',\n",
       "       'Manufactured, Modular, Prefabricated Homes', 'Mobile Home',\n",
       "       'Townhouse'], dtype=object)"
      ]
     },
     "execution_count": 49,
     "metadata": {},
     "output_type": "execute_result"
    }
   ],
   "source": [
    "df.propertylandusedesc.unique()"
   ]
  },
  {
   "cell_type": "code",
   "execution_count": 50,
   "metadata": {},
   "outputs": [],
   "source": [
    "df = df[df.propertylandusedesc != \"Duplex (2 Units, Any Combination)\"]"
   ]
  },
  {
   "cell_type": "code",
   "execution_count": 51,
   "metadata": {},
   "outputs": [],
   "source": [
    "df = df[df.propertylandusedesc != \"Planned Unit Development\"]"
   ]
  },
  {
   "cell_type": "code",
   "execution_count": 52,
   "metadata": {},
   "outputs": [],
   "source": [
    "df = df[df.propertylandusedesc != \"Triplex (3 Units, Any Combination)\"]"
   ]
  },
  {
   "cell_type": "code",
   "execution_count": 53,
   "metadata": {},
   "outputs": [],
   "source": [
    "df = df[df.propertylandusedesc != \"Quadruplex (4 Units, Any Combination)\"]"
   ]
  },
  {
   "cell_type": "code",
   "execution_count": 54,
   "metadata": {},
   "outputs": [
    {
     "data": {
      "text/html": [
       "<div>\n",
       "<style scoped>\n",
       "    .dataframe tbody tr th:only-of-type {\n",
       "        vertical-align: middle;\n",
       "    }\n",
       "\n",
       "    .dataframe tbody tr th {\n",
       "        vertical-align: top;\n",
       "    }\n",
       "\n",
       "    .dataframe thead th {\n",
       "        text-align: right;\n",
       "    }\n",
       "</style>\n",
       "<table border=\"1\" class=\"dataframe\">\n",
       "  <thead>\n",
       "    <tr style=\"text-align: right;\">\n",
       "      <th></th>\n",
       "      <th>id</th>\n",
       "      <th>parcelid</th>\n",
       "      <th>airconditioningtypeid</th>\n",
       "      <th>architecturalstyletypeid</th>\n",
       "      <th>basementsqft</th>\n",
       "      <th>bathroomcnt</th>\n",
       "      <th>bedroomcnt</th>\n",
       "      <th>buildingclasstypeid</th>\n",
       "      <th>buildingqualitytypeid</th>\n",
       "      <th>calculatedbathnbr</th>\n",
       "      <th>...</th>\n",
       "      <th>censustractandblock</th>\n",
       "      <th>logerror</th>\n",
       "      <th>transactiondate</th>\n",
       "      <th>airconditioningdesc</th>\n",
       "      <th>architecturalstyledesc</th>\n",
       "      <th>buildingclassdesc</th>\n",
       "      <th>heatingorsystemdesc</th>\n",
       "      <th>propertylandusedesc</th>\n",
       "      <th>storydesc</th>\n",
       "      <th>typeconstructiondesc</th>\n",
       "    </tr>\n",
       "  </thead>\n",
       "  <tbody>\n",
       "    <tr>\n",
       "      <th>816</th>\n",
       "      <td>1387621</td>\n",
       "      <td>17154779</td>\n",
       "      <td>NaN</td>\n",
       "      <td>NaN</td>\n",
       "      <td>NaN</td>\n",
       "      <td>2.0</td>\n",
       "      <td>3.0</td>\n",
       "      <td>NaN</td>\n",
       "      <td>NaN</td>\n",
       "      <td>2.0</td>\n",
       "      <td>...</td>\n",
       "      <td>6.111004e+13</td>\n",
       "      <td>-0.006820</td>\n",
       "      <td>2017-01-05</td>\n",
       "      <td>NaN</td>\n",
       "      <td>NaN</td>\n",
       "      <td>NaN</td>\n",
       "      <td>NaN</td>\n",
       "      <td>Cluster Home</td>\n",
       "      <td>NaN</td>\n",
       "      <td>NaN</td>\n",
       "    </tr>\n",
       "    <tr>\n",
       "      <th>1112</th>\n",
       "      <td>2848582</td>\n",
       "      <td>17118180</td>\n",
       "      <td>NaN</td>\n",
       "      <td>NaN</td>\n",
       "      <td>NaN</td>\n",
       "      <td>2.0</td>\n",
       "      <td>3.0</td>\n",
       "      <td>NaN</td>\n",
       "      <td>NaN</td>\n",
       "      <td>2.0</td>\n",
       "      <td>...</td>\n",
       "      <td>6.111003e+13</td>\n",
       "      <td>-0.022208</td>\n",
       "      <td>2017-01-05</td>\n",
       "      <td>NaN</td>\n",
       "      <td>NaN</td>\n",
       "      <td>NaN</td>\n",
       "      <td>NaN</td>\n",
       "      <td>Cluster Home</td>\n",
       "      <td>NaN</td>\n",
       "      <td>NaN</td>\n",
       "    </tr>\n",
       "    <tr>\n",
       "      <th>1825</th>\n",
       "      <td>2684884</td>\n",
       "      <td>17213665</td>\n",
       "      <td>NaN</td>\n",
       "      <td>NaN</td>\n",
       "      <td>NaN</td>\n",
       "      <td>2.5</td>\n",
       "      <td>3.0</td>\n",
       "      <td>NaN</td>\n",
       "      <td>NaN</td>\n",
       "      <td>2.5</td>\n",
       "      <td>...</td>\n",
       "      <td>6.111007e+13</td>\n",
       "      <td>-0.007017</td>\n",
       "      <td>2017-01-10</td>\n",
       "      <td>NaN</td>\n",
       "      <td>NaN</td>\n",
       "      <td>NaN</td>\n",
       "      <td>NaN</td>\n",
       "      <td>Cluster Home</td>\n",
       "      <td>NaN</td>\n",
       "      <td>NaN</td>\n",
       "    </tr>\n",
       "    <tr>\n",
       "      <th>1984</th>\n",
       "      <td>1581819</td>\n",
       "      <td>17187156</td>\n",
       "      <td>NaN</td>\n",
       "      <td>NaN</td>\n",
       "      <td>NaN</td>\n",
       "      <td>2.5</td>\n",
       "      <td>3.0</td>\n",
       "      <td>NaN</td>\n",
       "      <td>NaN</td>\n",
       "      <td>2.5</td>\n",
       "      <td>...</td>\n",
       "      <td>6.111005e+13</td>\n",
       "      <td>-0.011310</td>\n",
       "      <td>2017-01-10</td>\n",
       "      <td>NaN</td>\n",
       "      <td>NaN</td>\n",
       "      <td>NaN</td>\n",
       "      <td>NaN</td>\n",
       "      <td>Cluster Home</td>\n",
       "      <td>NaN</td>\n",
       "      <td>NaN</td>\n",
       "    </tr>\n",
       "    <tr>\n",
       "      <th>2173</th>\n",
       "      <td>1029476</td>\n",
       "      <td>17139329</td>\n",
       "      <td>NaN</td>\n",
       "      <td>NaN</td>\n",
       "      <td>NaN</td>\n",
       "      <td>2.0</td>\n",
       "      <td>2.0</td>\n",
       "      <td>NaN</td>\n",
       "      <td>NaN</td>\n",
       "      <td>2.0</td>\n",
       "      <td>...</td>\n",
       "      <td>6.111005e+13</td>\n",
       "      <td>0.109234</td>\n",
       "      <td>2017-01-11</td>\n",
       "      <td>NaN</td>\n",
       "      <td>NaN</td>\n",
       "      <td>NaN</td>\n",
       "      <td>NaN</td>\n",
       "      <td>Cluster Home</td>\n",
       "      <td>NaN</td>\n",
       "      <td>NaN</td>\n",
       "    </tr>\n",
       "    <tr>\n",
       "      <th>...</th>\n",
       "      <td>...</td>\n",
       "      <td>...</td>\n",
       "      <td>...</td>\n",
       "      <td>...</td>\n",
       "      <td>...</td>\n",
       "      <td>...</td>\n",
       "      <td>...</td>\n",
       "      <td>...</td>\n",
       "      <td>...</td>\n",
       "      <td>...</td>\n",
       "      <td>...</td>\n",
       "      <td>...</td>\n",
       "      <td>...</td>\n",
       "      <td>...</td>\n",
       "      <td>...</td>\n",
       "      <td>...</td>\n",
       "      <td>...</td>\n",
       "      <td>...</td>\n",
       "      <td>...</td>\n",
       "      <td>...</td>\n",
       "      <td>...</td>\n",
       "    </tr>\n",
       "    <tr>\n",
       "      <th>75291</th>\n",
       "      <td>2714709</td>\n",
       "      <td>17206752</td>\n",
       "      <td>NaN</td>\n",
       "      <td>NaN</td>\n",
       "      <td>NaN</td>\n",
       "      <td>2.5</td>\n",
       "      <td>3.0</td>\n",
       "      <td>NaN</td>\n",
       "      <td>NaN</td>\n",
       "      <td>2.5</td>\n",
       "      <td>...</td>\n",
       "      <td>6.111008e+13</td>\n",
       "      <td>-0.032681</td>\n",
       "      <td>2017-09-11</td>\n",
       "      <td>NaN</td>\n",
       "      <td>NaN</td>\n",
       "      <td>NaN</td>\n",
       "      <td>NaN</td>\n",
       "      <td>Cluster Home</td>\n",
       "      <td>NaN</td>\n",
       "      <td>NaN</td>\n",
       "    </tr>\n",
       "    <tr>\n",
       "      <th>75328</th>\n",
       "      <td>552725</td>\n",
       "      <td>17219182</td>\n",
       "      <td>NaN</td>\n",
       "      <td>NaN</td>\n",
       "      <td>NaN</td>\n",
       "      <td>2.0</td>\n",
       "      <td>2.0</td>\n",
       "      <td>NaN</td>\n",
       "      <td>NaN</td>\n",
       "      <td>2.0</td>\n",
       "      <td>...</td>\n",
       "      <td>6.111008e+13</td>\n",
       "      <td>0.040158</td>\n",
       "      <td>2017-09-11</td>\n",
       "      <td>NaN</td>\n",
       "      <td>NaN</td>\n",
       "      <td>NaN</td>\n",
       "      <td>NaN</td>\n",
       "      <td>Cluster Home</td>\n",
       "      <td>NaN</td>\n",
       "      <td>NaN</td>\n",
       "    </tr>\n",
       "    <tr>\n",
       "      <th>75713</th>\n",
       "      <td>2744188</td>\n",
       "      <td>17135378</td>\n",
       "      <td>NaN</td>\n",
       "      <td>NaN</td>\n",
       "      <td>NaN</td>\n",
       "      <td>2.0</td>\n",
       "      <td>3.0</td>\n",
       "      <td>NaN</td>\n",
       "      <td>NaN</td>\n",
       "      <td>2.0</td>\n",
       "      <td>...</td>\n",
       "      <td>6.111006e+13</td>\n",
       "      <td>0.021763</td>\n",
       "      <td>2017-09-12</td>\n",
       "      <td>NaN</td>\n",
       "      <td>NaN</td>\n",
       "      <td>NaN</td>\n",
       "      <td>NaN</td>\n",
       "      <td>Cluster Home</td>\n",
       "      <td>NaN</td>\n",
       "      <td>NaN</td>\n",
       "    </tr>\n",
       "    <tr>\n",
       "      <th>75936</th>\n",
       "      <td>149447</td>\n",
       "      <td>17073778</td>\n",
       "      <td>NaN</td>\n",
       "      <td>NaN</td>\n",
       "      <td>NaN</td>\n",
       "      <td>2.5</td>\n",
       "      <td>3.0</td>\n",
       "      <td>NaN</td>\n",
       "      <td>NaN</td>\n",
       "      <td>2.5</td>\n",
       "      <td>...</td>\n",
       "      <td>6.111002e+13</td>\n",
       "      <td>0.027067</td>\n",
       "      <td>2017-09-13</td>\n",
       "      <td>NaN</td>\n",
       "      <td>NaN</td>\n",
       "      <td>NaN</td>\n",
       "      <td>NaN</td>\n",
       "      <td>Cluster Home</td>\n",
       "      <td>NaN</td>\n",
       "      <td>NaN</td>\n",
       "    </tr>\n",
       "    <tr>\n",
       "      <th>76539</th>\n",
       "      <td>1208782</td>\n",
       "      <td>17219120</td>\n",
       "      <td>NaN</td>\n",
       "      <td>NaN</td>\n",
       "      <td>NaN</td>\n",
       "      <td>2.5</td>\n",
       "      <td>3.0</td>\n",
       "      <td>NaN</td>\n",
       "      <td>NaN</td>\n",
       "      <td>2.5</td>\n",
       "      <td>...</td>\n",
       "      <td>6.111008e+13</td>\n",
       "      <td>0.062956</td>\n",
       "      <td>2017-09-15</td>\n",
       "      <td>NaN</td>\n",
       "      <td>NaN</td>\n",
       "      <td>NaN</td>\n",
       "      <td>NaN</td>\n",
       "      <td>Cluster Home</td>\n",
       "      <td>NaN</td>\n",
       "      <td>NaN</td>\n",
       "    </tr>\n",
       "  </tbody>\n",
       "</table>\n",
       "<p>333 rows × 68 columns</p>\n",
       "</div>"
      ],
      "text/plain": [
       "            id  parcelid  airconditioningtypeid  architecturalstyletypeid  \\\n",
       "816    1387621  17154779                    NaN                       NaN   \n",
       "1112   2848582  17118180                    NaN                       NaN   \n",
       "1825   2684884  17213665                    NaN                       NaN   \n",
       "1984   1581819  17187156                    NaN                       NaN   \n",
       "2173   1029476  17139329                    NaN                       NaN   \n",
       "...        ...       ...                    ...                       ...   \n",
       "75291  2714709  17206752                    NaN                       NaN   \n",
       "75328   552725  17219182                    NaN                       NaN   \n",
       "75713  2744188  17135378                    NaN                       NaN   \n",
       "75936   149447  17073778                    NaN                       NaN   \n",
       "76539  1208782  17219120                    NaN                       NaN   \n",
       "\n",
       "       basementsqft  bathroomcnt  bedroomcnt  buildingclasstypeid  \\\n",
       "816             NaN          2.0         3.0                  NaN   \n",
       "1112            NaN          2.0         3.0                  NaN   \n",
       "1825            NaN          2.5         3.0                  NaN   \n",
       "1984            NaN          2.5         3.0                  NaN   \n",
       "2173            NaN          2.0         2.0                  NaN   \n",
       "...             ...          ...         ...                  ...   \n",
       "75291           NaN          2.5         3.0                  NaN   \n",
       "75328           NaN          2.0         2.0                  NaN   \n",
       "75713           NaN          2.0         3.0                  NaN   \n",
       "75936           NaN          2.5         3.0                  NaN   \n",
       "76539           NaN          2.5         3.0                  NaN   \n",
       "\n",
       "       buildingqualitytypeid  calculatedbathnbr  ...  censustractandblock  \\\n",
       "816                      NaN                2.0  ...         6.111004e+13   \n",
       "1112                     NaN                2.0  ...         6.111003e+13   \n",
       "1825                     NaN                2.5  ...         6.111007e+13   \n",
       "1984                     NaN                2.5  ...         6.111005e+13   \n",
       "2173                     NaN                2.0  ...         6.111005e+13   \n",
       "...                      ...                ...  ...                  ...   \n",
       "75291                    NaN                2.5  ...         6.111008e+13   \n",
       "75328                    NaN                2.0  ...         6.111008e+13   \n",
       "75713                    NaN                2.0  ...         6.111006e+13   \n",
       "75936                    NaN                2.5  ...         6.111002e+13   \n",
       "76539                    NaN                2.5  ...         6.111008e+13   \n",
       "\n",
       "       logerror  transactiondate  airconditioningdesc  architecturalstyledesc  \\\n",
       "816   -0.006820       2017-01-05                  NaN                     NaN   \n",
       "1112  -0.022208       2017-01-05                  NaN                     NaN   \n",
       "1825  -0.007017       2017-01-10                  NaN                     NaN   \n",
       "1984  -0.011310       2017-01-10                  NaN                     NaN   \n",
       "2173   0.109234       2017-01-11                  NaN                     NaN   \n",
       "...         ...              ...                  ...                     ...   \n",
       "75291 -0.032681       2017-09-11                  NaN                     NaN   \n",
       "75328  0.040158       2017-09-11                  NaN                     NaN   \n",
       "75713  0.021763       2017-09-12                  NaN                     NaN   \n",
       "75936  0.027067       2017-09-13                  NaN                     NaN   \n",
       "76539  0.062956       2017-09-15                  NaN                     NaN   \n",
       "\n",
       "       buildingclassdesc  heatingorsystemdesc  propertylandusedesc  storydesc  \\\n",
       "816                  NaN                  NaN         Cluster Home        NaN   \n",
       "1112                 NaN                  NaN         Cluster Home        NaN   \n",
       "1825                 NaN                  NaN         Cluster Home        NaN   \n",
       "1984                 NaN                  NaN         Cluster Home        NaN   \n",
       "2173                 NaN                  NaN         Cluster Home        NaN   \n",
       "...                  ...                  ...                  ...        ...   \n",
       "75291                NaN                  NaN         Cluster Home        NaN   \n",
       "75328                NaN                  NaN         Cluster Home        NaN   \n",
       "75713                NaN                  NaN         Cluster Home        NaN   \n",
       "75936                NaN                  NaN         Cluster Home        NaN   \n",
       "76539                NaN                  NaN         Cluster Home        NaN   \n",
       "\n",
       "       typeconstructiondesc  \n",
       "816                     NaN  \n",
       "1112                    NaN  \n",
       "1825                    NaN  \n",
       "1984                    NaN  \n",
       "2173                    NaN  \n",
       "...                     ...  \n",
       "75291                   NaN  \n",
       "75328                   NaN  \n",
       "75713                   NaN  \n",
       "75936                   NaN  \n",
       "76539                   NaN  \n",
       "\n",
       "[333 rows x 68 columns]"
      ]
     },
     "execution_count": 54,
     "metadata": {},
     "output_type": "execute_result"
    }
   ],
   "source": [
    "# Now Cluster homes are usually individual, and each unit owns themselves and the land they're on, \n",
    "# but let's see how this data set does it\n",
    "df[df.propertylandusedesc == \"Cluster Home\"]"
   ]
  },
  {
   "cell_type": "code",
   "execution_count": 55,
   "metadata": {},
   "outputs": [
    {
     "data": {
      "text/plain": [
       "array(['Single Family Residential', 'Condominium', 'Cluster Home',\n",
       "       'Cooperative', 'Residential General',\n",
       "       'Manufactured, Modular, Prefabricated Homes', 'Mobile Home',\n",
       "       'Townhouse'], dtype=object)"
      ]
     },
     "execution_count": 55,
     "metadata": {},
     "output_type": "execute_result"
    }
   ],
   "source": [
    "# Cluster Homes still act like Single Family, so we'll skip removing them.\n",
    "# Onward!\n",
    "df.propertylandusedesc.unique()"
   ]
  },
  {
   "cell_type": "code",
   "execution_count": 56,
   "metadata": {},
   "outputs": [
    {
     "data": {
      "text/html": [
       "<div>\n",
       "<style scoped>\n",
       "    .dataframe tbody tr th:only-of-type {\n",
       "        vertical-align: middle;\n",
       "    }\n",
       "\n",
       "    .dataframe tbody tr th {\n",
       "        vertical-align: top;\n",
       "    }\n",
       "\n",
       "    .dataframe thead th {\n",
       "        text-align: right;\n",
       "    }\n",
       "</style>\n",
       "<table border=\"1\" class=\"dataframe\">\n",
       "  <thead>\n",
       "    <tr style=\"text-align: right;\">\n",
       "      <th></th>\n",
       "      <th>id</th>\n",
       "      <th>parcelid</th>\n",
       "      <th>airconditioningtypeid</th>\n",
       "      <th>architecturalstyletypeid</th>\n",
       "      <th>basementsqft</th>\n",
       "      <th>bathroomcnt</th>\n",
       "      <th>bedroomcnt</th>\n",
       "      <th>buildingclasstypeid</th>\n",
       "      <th>buildingqualitytypeid</th>\n",
       "      <th>calculatedbathnbr</th>\n",
       "      <th>...</th>\n",
       "      <th>censustractandblock</th>\n",
       "      <th>logerror</th>\n",
       "      <th>transactiondate</th>\n",
       "      <th>airconditioningdesc</th>\n",
       "      <th>architecturalstyledesc</th>\n",
       "      <th>buildingclassdesc</th>\n",
       "      <th>heatingorsystemdesc</th>\n",
       "      <th>propertylandusedesc</th>\n",
       "      <th>storydesc</th>\n",
       "      <th>typeconstructiondesc</th>\n",
       "    </tr>\n",
       "  </thead>\n",
       "  <tbody>\n",
       "    <tr>\n",
       "      <th>23703</th>\n",
       "      <td>1834469</td>\n",
       "      <td>10841004</td>\n",
       "      <td>1.0</td>\n",
       "      <td>NaN</td>\n",
       "      <td>NaN</td>\n",
       "      <td>3.0</td>\n",
       "      <td>3.0</td>\n",
       "      <td>NaN</td>\n",
       "      <td>8.0</td>\n",
       "      <td>3.0</td>\n",
       "      <td>...</td>\n",
       "      <td>6.037128e+13</td>\n",
       "      <td>-0.039344</td>\n",
       "      <td>2017-04-05</td>\n",
       "      <td>Central</td>\n",
       "      <td>NaN</td>\n",
       "      <td>NaN</td>\n",
       "      <td>Central</td>\n",
       "      <td>Townhouse</td>\n",
       "      <td>NaN</td>\n",
       "      <td>NaN</td>\n",
       "    </tr>\n",
       "    <tr>\n",
       "      <th>24804</th>\n",
       "      <td>88893</td>\n",
       "      <td>10840997</td>\n",
       "      <td>1.0</td>\n",
       "      <td>NaN</td>\n",
       "      <td>NaN</td>\n",
       "      <td>3.0</td>\n",
       "      <td>3.0</td>\n",
       "      <td>NaN</td>\n",
       "      <td>8.0</td>\n",
       "      <td>3.0</td>\n",
       "      <td>...</td>\n",
       "      <td>6.037128e+13</td>\n",
       "      <td>-0.129124</td>\n",
       "      <td>2017-04-10</td>\n",
       "      <td>Central</td>\n",
       "      <td>NaN</td>\n",
       "      <td>NaN</td>\n",
       "      <td>Central</td>\n",
       "      <td>Townhouse</td>\n",
       "      <td>NaN</td>\n",
       "      <td>NaN</td>\n",
       "    </tr>\n",
       "    <tr>\n",
       "      <th>30629</th>\n",
       "      <td>402392</td>\n",
       "      <td>12013206</td>\n",
       "      <td>1.0</td>\n",
       "      <td>NaN</td>\n",
       "      <td>NaN</td>\n",
       "      <td>2.0</td>\n",
       "      <td>2.0</td>\n",
       "      <td>NaN</td>\n",
       "      <td>7.0</td>\n",
       "      <td>2.0</td>\n",
       "      <td>...</td>\n",
       "      <td>6.037190e+13</td>\n",
       "      <td>0.022429</td>\n",
       "      <td>2017-04-28</td>\n",
       "      <td>Central</td>\n",
       "      <td>NaN</td>\n",
       "      <td>NaN</td>\n",
       "      <td>Central</td>\n",
       "      <td>Townhouse</td>\n",
       "      <td>NaN</td>\n",
       "      <td>NaN</td>\n",
       "    </tr>\n",
       "    <tr>\n",
       "      <th>39066</th>\n",
       "      <td>1664944</td>\n",
       "      <td>12835610</td>\n",
       "      <td>1.0</td>\n",
       "      <td>NaN</td>\n",
       "      <td>NaN</td>\n",
       "      <td>3.0</td>\n",
       "      <td>3.0</td>\n",
       "      <td>NaN</td>\n",
       "      <td>6.0</td>\n",
       "      <td>3.0</td>\n",
       "      <td>...</td>\n",
       "      <td>6.037408e+13</td>\n",
       "      <td>0.079530</td>\n",
       "      <td>2017-05-24</td>\n",
       "      <td>Central</td>\n",
       "      <td>NaN</td>\n",
       "      <td>NaN</td>\n",
       "      <td>Central</td>\n",
       "      <td>Townhouse</td>\n",
       "      <td>NaN</td>\n",
       "      <td>NaN</td>\n",
       "    </tr>\n",
       "    <tr>\n",
       "      <th>44713</th>\n",
       "      <td>1147937</td>\n",
       "      <td>12013219</td>\n",
       "      <td>1.0</td>\n",
       "      <td>NaN</td>\n",
       "      <td>NaN</td>\n",
       "      <td>2.0</td>\n",
       "      <td>2.0</td>\n",
       "      <td>NaN</td>\n",
       "      <td>7.0</td>\n",
       "      <td>2.0</td>\n",
       "      <td>...</td>\n",
       "      <td>6.037190e+13</td>\n",
       "      <td>0.016643</td>\n",
       "      <td>2017-06-09</td>\n",
       "      <td>Central</td>\n",
       "      <td>NaN</td>\n",
       "      <td>NaN</td>\n",
       "      <td>Central</td>\n",
       "      <td>Townhouse</td>\n",
       "      <td>NaN</td>\n",
       "      <td>NaN</td>\n",
       "    </tr>\n",
       "    <tr>\n",
       "      <th>60430</th>\n",
       "      <td>1729882</td>\n",
       "      <td>12069518</td>\n",
       "      <td>1.0</td>\n",
       "      <td>NaN</td>\n",
       "      <td>NaN</td>\n",
       "      <td>3.0</td>\n",
       "      <td>3.0</td>\n",
       "      <td>NaN</td>\n",
       "      <td>9.0</td>\n",
       "      <td>3.0</td>\n",
       "      <td>...</td>\n",
       "      <td>6.037302e+13</td>\n",
       "      <td>-0.042704</td>\n",
       "      <td>2017-07-26</td>\n",
       "      <td>Central</td>\n",
       "      <td>NaN</td>\n",
       "      <td>NaN</td>\n",
       "      <td>Central</td>\n",
       "      <td>Townhouse</td>\n",
       "      <td>NaN</td>\n",
       "      <td>NaN</td>\n",
       "    </tr>\n",
       "  </tbody>\n",
       "</table>\n",
       "<p>6 rows × 68 columns</p>\n",
       "</div>"
      ],
      "text/plain": [
       "            id  parcelid  airconditioningtypeid  architecturalstyletypeid  \\\n",
       "23703  1834469  10841004                    1.0                       NaN   \n",
       "24804    88893  10840997                    1.0                       NaN   \n",
       "30629   402392  12013206                    1.0                       NaN   \n",
       "39066  1664944  12835610                    1.0                       NaN   \n",
       "44713  1147937  12013219                    1.0                       NaN   \n",
       "60430  1729882  12069518                    1.0                       NaN   \n",
       "\n",
       "       basementsqft  bathroomcnt  bedroomcnt  buildingclasstypeid  \\\n",
       "23703           NaN          3.0         3.0                  NaN   \n",
       "24804           NaN          3.0         3.0                  NaN   \n",
       "30629           NaN          2.0         2.0                  NaN   \n",
       "39066           NaN          3.0         3.0                  NaN   \n",
       "44713           NaN          2.0         2.0                  NaN   \n",
       "60430           NaN          3.0         3.0                  NaN   \n",
       "\n",
       "       buildingqualitytypeid  calculatedbathnbr  ...  censustractandblock  \\\n",
       "23703                    8.0                3.0  ...         6.037128e+13   \n",
       "24804                    8.0                3.0  ...         6.037128e+13   \n",
       "30629                    7.0                2.0  ...         6.037190e+13   \n",
       "39066                    6.0                3.0  ...         6.037408e+13   \n",
       "44713                    7.0                2.0  ...         6.037190e+13   \n",
       "60430                    9.0                3.0  ...         6.037302e+13   \n",
       "\n",
       "       logerror  transactiondate  airconditioningdesc  architecturalstyledesc  \\\n",
       "23703 -0.039344       2017-04-05              Central                     NaN   \n",
       "24804 -0.129124       2017-04-10              Central                     NaN   \n",
       "30629  0.022429       2017-04-28              Central                     NaN   \n",
       "39066  0.079530       2017-05-24              Central                     NaN   \n",
       "44713  0.016643       2017-06-09              Central                     NaN   \n",
       "60430 -0.042704       2017-07-26              Central                     NaN   \n",
       "\n",
       "       buildingclassdesc  heatingorsystemdesc  propertylandusedesc  storydesc  \\\n",
       "23703                NaN              Central            Townhouse        NaN   \n",
       "24804                NaN              Central            Townhouse        NaN   \n",
       "30629                NaN              Central            Townhouse        NaN   \n",
       "39066                NaN              Central            Townhouse        NaN   \n",
       "44713                NaN              Central            Townhouse        NaN   \n",
       "60430                NaN              Central            Townhouse        NaN   \n",
       "\n",
       "       typeconstructiondesc  \n",
       "23703                   NaN  \n",
       "24804                   NaN  \n",
       "30629                   NaN  \n",
       "39066                   NaN  \n",
       "44713                   NaN  \n",
       "60430                   NaN  \n",
       "\n",
       "[6 rows x 68 columns]"
      ]
     },
     "execution_count": 56,
     "metadata": {},
     "output_type": "execute_result"
    }
   ],
   "source": [
    "df[df.propertylandusedesc == \"Cooperative\"]\n",
    "df[df.propertylandusedesc == \"Residential General\"]\n",
    "df.bedroomcnt[df.propertylandusedesc == \"Manufactured, Modular, Prefabricated Homes\"].unique()\n",
    "df[df.propertylandusedesc == \"Townhouse\"]"
   ]
  },
  {
   "cell_type": "markdown",
   "metadata": {},
   "source": [
    "> Okay the rest look good."
   ]
  },
  {
   "cell_type": "code",
   "execution_count": 57,
   "metadata": {},
   "outputs": [
    {
     "data": {
      "text/html": [
       "<div>\n",
       "<style scoped>\n",
       "    .dataframe tbody tr th:only-of-type {\n",
       "        vertical-align: middle;\n",
       "    }\n",
       "\n",
       "    .dataframe tbody tr th {\n",
       "        vertical-align: top;\n",
       "    }\n",
       "\n",
       "    .dataframe thead th {\n",
       "        text-align: right;\n",
       "    }\n",
       "</style>\n",
       "<table border=\"1\" class=\"dataframe\">\n",
       "  <thead>\n",
       "    <tr style=\"text-align: right;\">\n",
       "      <th></th>\n",
       "      <th>id</th>\n",
       "      <th>parcelid</th>\n",
       "      <th>airconditioningtypeid</th>\n",
       "      <th>architecturalstyletypeid</th>\n",
       "      <th>basementsqft</th>\n",
       "      <th>bathroomcnt</th>\n",
       "      <th>bedroomcnt</th>\n",
       "      <th>buildingclasstypeid</th>\n",
       "      <th>buildingqualitytypeid</th>\n",
       "      <th>calculatedbathnbr</th>\n",
       "      <th>...</th>\n",
       "      <th>censustractandblock</th>\n",
       "      <th>logerror</th>\n",
       "      <th>transactiondate</th>\n",
       "      <th>airconditioningdesc</th>\n",
       "      <th>architecturalstyledesc</th>\n",
       "      <th>buildingclassdesc</th>\n",
       "      <th>heatingorsystemdesc</th>\n",
       "      <th>propertylandusedesc</th>\n",
       "      <th>storydesc</th>\n",
       "      <th>typeconstructiondesc</th>\n",
       "    </tr>\n",
       "  </thead>\n",
       "  <tbody>\n",
       "    <tr>\n",
       "      <th>0</th>\n",
       "      <td>1727539</td>\n",
       "      <td>14297519</td>\n",
       "      <td>NaN</td>\n",
       "      <td>NaN</td>\n",
       "      <td>NaN</td>\n",
       "      <td>3.5</td>\n",
       "      <td>4.0</td>\n",
       "      <td>NaN</td>\n",
       "      <td>NaN</td>\n",
       "      <td>3.5</td>\n",
       "      <td>...</td>\n",
       "      <td>6.059063e+13</td>\n",
       "      <td>0.025595</td>\n",
       "      <td>2017-01-01</td>\n",
       "      <td>NaN</td>\n",
       "      <td>NaN</td>\n",
       "      <td>NaN</td>\n",
       "      <td>NaN</td>\n",
       "      <td>Single Family Residential</td>\n",
       "      <td>NaN</td>\n",
       "      <td>NaN</td>\n",
       "    </tr>\n",
       "    <tr>\n",
       "      <th>1</th>\n",
       "      <td>1387261</td>\n",
       "      <td>17052889</td>\n",
       "      <td>NaN</td>\n",
       "      <td>NaN</td>\n",
       "      <td>NaN</td>\n",
       "      <td>1.0</td>\n",
       "      <td>2.0</td>\n",
       "      <td>NaN</td>\n",
       "      <td>NaN</td>\n",
       "      <td>1.0</td>\n",
       "      <td>...</td>\n",
       "      <td>6.111001e+13</td>\n",
       "      <td>0.055619</td>\n",
       "      <td>2017-01-01</td>\n",
       "      <td>NaN</td>\n",
       "      <td>NaN</td>\n",
       "      <td>NaN</td>\n",
       "      <td>NaN</td>\n",
       "      <td>Single Family Residential</td>\n",
       "      <td>NaN</td>\n",
       "      <td>NaN</td>\n",
       "    </tr>\n",
       "    <tr>\n",
       "      <th>2</th>\n",
       "      <td>11677</td>\n",
       "      <td>14186244</td>\n",
       "      <td>NaN</td>\n",
       "      <td>NaN</td>\n",
       "      <td>NaN</td>\n",
       "      <td>2.0</td>\n",
       "      <td>3.0</td>\n",
       "      <td>NaN</td>\n",
       "      <td>NaN</td>\n",
       "      <td>2.0</td>\n",
       "      <td>...</td>\n",
       "      <td>6.059022e+13</td>\n",
       "      <td>0.005383</td>\n",
       "      <td>2017-01-01</td>\n",
       "      <td>NaN</td>\n",
       "      <td>NaN</td>\n",
       "      <td>NaN</td>\n",
       "      <td>NaN</td>\n",
       "      <td>Single Family Residential</td>\n",
       "      <td>NaN</td>\n",
       "      <td>NaN</td>\n",
       "    </tr>\n",
       "    <tr>\n",
       "      <th>3</th>\n",
       "      <td>2288172</td>\n",
       "      <td>12177905</td>\n",
       "      <td>NaN</td>\n",
       "      <td>NaN</td>\n",
       "      <td>NaN</td>\n",
       "      <td>3.0</td>\n",
       "      <td>4.0</td>\n",
       "      <td>NaN</td>\n",
       "      <td>8.0</td>\n",
       "      <td>3.0</td>\n",
       "      <td>...</td>\n",
       "      <td>6.037300e+13</td>\n",
       "      <td>-0.103410</td>\n",
       "      <td>2017-01-01</td>\n",
       "      <td>NaN</td>\n",
       "      <td>NaN</td>\n",
       "      <td>NaN</td>\n",
       "      <td>Central</td>\n",
       "      <td>Single Family Residential</td>\n",
       "      <td>NaN</td>\n",
       "      <td>NaN</td>\n",
       "    </tr>\n",
       "    <tr>\n",
       "      <th>4</th>\n",
       "      <td>1970746</td>\n",
       "      <td>10887214</td>\n",
       "      <td>1.0</td>\n",
       "      <td>NaN</td>\n",
       "      <td>NaN</td>\n",
       "      <td>3.0</td>\n",
       "      <td>3.0</td>\n",
       "      <td>NaN</td>\n",
       "      <td>8.0</td>\n",
       "      <td>3.0</td>\n",
       "      <td>...</td>\n",
       "      <td>6.037124e+13</td>\n",
       "      <td>0.006940</td>\n",
       "      <td>2017-01-01</td>\n",
       "      <td>Central</td>\n",
       "      <td>NaN</td>\n",
       "      <td>NaN</td>\n",
       "      <td>Central</td>\n",
       "      <td>Condominium</td>\n",
       "      <td>NaN</td>\n",
       "      <td>NaN</td>\n",
       "    </tr>\n",
       "  </tbody>\n",
       "</table>\n",
       "<p>5 rows × 68 columns</p>\n",
       "</div>"
      ],
      "text/plain": [
       "        id  parcelid  airconditioningtypeid  architecturalstyletypeid  \\\n",
       "0  1727539  14297519                    NaN                       NaN   \n",
       "1  1387261  17052889                    NaN                       NaN   \n",
       "2    11677  14186244                    NaN                       NaN   \n",
       "3  2288172  12177905                    NaN                       NaN   \n",
       "4  1970746  10887214                    1.0                       NaN   \n",
       "\n",
       "   basementsqft  bathroomcnt  bedroomcnt  buildingclasstypeid  \\\n",
       "0           NaN          3.5         4.0                  NaN   \n",
       "1           NaN          1.0         2.0                  NaN   \n",
       "2           NaN          2.0         3.0                  NaN   \n",
       "3           NaN          3.0         4.0                  NaN   \n",
       "4           NaN          3.0         3.0                  NaN   \n",
       "\n",
       "   buildingqualitytypeid  calculatedbathnbr  ...  censustractandblock  \\\n",
       "0                    NaN                3.5  ...         6.059063e+13   \n",
       "1                    NaN                1.0  ...         6.111001e+13   \n",
       "2                    NaN                2.0  ...         6.059022e+13   \n",
       "3                    8.0                3.0  ...         6.037300e+13   \n",
       "4                    8.0                3.0  ...         6.037124e+13   \n",
       "\n",
       "   logerror  transactiondate  airconditioningdesc  architecturalstyledesc  \\\n",
       "0  0.025595       2017-01-01                  NaN                     NaN   \n",
       "1  0.055619       2017-01-01                  NaN                     NaN   \n",
       "2  0.005383       2017-01-01                  NaN                     NaN   \n",
       "3 -0.103410       2017-01-01                  NaN                     NaN   \n",
       "4  0.006940       2017-01-01              Central                     NaN   \n",
       "\n",
       "   buildingclassdesc  heatingorsystemdesc        propertylandusedesc  \\\n",
       "0                NaN                  NaN  Single Family Residential   \n",
       "1                NaN                  NaN  Single Family Residential   \n",
       "2                NaN                  NaN  Single Family Residential   \n",
       "3                NaN              Central  Single Family Residential   \n",
       "4                NaN              Central                Condominium   \n",
       "\n",
       "   storydesc  typeconstructiondesc  \n",
       "0        NaN                   NaN  \n",
       "1        NaN                   NaN  \n",
       "2        NaN                   NaN  \n",
       "3        NaN                   NaN  \n",
       "4        NaN                   NaN  \n",
       "\n",
       "[5 rows x 68 columns]"
      ]
     },
     "execution_count": 57,
     "metadata": {},
     "output_type": "execute_result"
    }
   ],
   "source": [
    "df.head()"
   ]
  },
  {
   "cell_type": "markdown",
   "metadata": {},
   "source": [
    "> Don't need secondary keys."
   ]
  },
  {
   "cell_type": "code",
   "execution_count": 58,
   "metadata": {},
   "outputs": [],
   "source": [
    "df = df.drop(columns=[\"airconditioningtypeid\", \"architecturalstyletypeid\", \"buildingclasstypeid\", \"heatingorsystemtypeid\", \"propertylandusetypeid\", \"storytypeid\", \"typeconstructiontypeid\"])"
   ]
  },
  {
   "cell_type": "code",
   "execution_count": 59,
   "metadata": {},
   "outputs": [],
   "source": [
    "df.basementsqft = df.basementsqft.fillna(0)"
   ]
  },
  {
   "cell_type": "code",
   "execution_count": 60,
   "metadata": {},
   "outputs": [],
   "source": [
    "df = df.drop(columns=[\"finishedsquarefeet12\", \"finishedsquarefeet13\", \"finishedsquarefeet15\", \"finishedsquarefeet50\", \"finishedsquarefeet6\"])"
   ]
  },
  {
   "cell_type": "code",
   "execution_count": 61,
   "metadata": {},
   "outputs": [],
   "source": [
    "df = df.drop(columns=[\"calculatedbathnbr\", \"finishedfloor1squarefeet\", \"fullbathcnt\", \"taxdelinquencyyear\", \"censustractandblock\"])"
   ]
  },
  {
   "cell_type": "code",
   "execution_count": 62,
   "metadata": {},
   "outputs": [],
   "source": [
    "df.fireplacecnt = df.fireplacecnt.fillna(0)"
   ]
  },
  {
   "cell_type": "code",
   "execution_count": 63,
   "metadata": {},
   "outputs": [],
   "source": [
    "df.garagecarcnt = df.garagecarcnt.fillna(0)"
   ]
  },
  {
   "cell_type": "code",
   "execution_count": 64,
   "metadata": {},
   "outputs": [],
   "source": [
    "df.garagetotalsqft = df.garagetotalsqft.fillna(0)"
   ]
  },
  {
   "cell_type": "code",
   "execution_count": 65,
   "metadata": {},
   "outputs": [
    {
     "name": "stdout",
     "output_type": "stream",
     "text": [
      "<class 'pandas.core.frame.DataFrame'>\n",
      "Int64Index: 71648 entries, 0 to 77379\n",
      "Data columns (total 51 columns):\n",
      " #   Column                        Non-Null Count  Dtype  \n",
      "---  ------                        --------------  -----  \n",
      " 0   id                            71648 non-null  int64  \n",
      " 1   parcelid                      71648 non-null  int64  \n",
      " 2   basementsqft                  71648 non-null  float64\n",
      " 3   bathroomcnt                   71648 non-null  float64\n",
      " 4   bedroomcnt                    71648 non-null  float64\n",
      " 5   buildingqualitytypeid         44798 non-null  float64\n",
      " 6   decktypeid                    612 non-null    float64\n",
      " 7   calculatedfinishedsquarefeet  71638 non-null  float64\n",
      " 8   fips                          71648 non-null  float64\n",
      " 9   fireplacecnt                  71648 non-null  float64\n",
      " 10  garagecarcnt                  71648 non-null  float64\n",
      " 11  garagetotalsqft               71648 non-null  float64\n",
      " 12  hashottuborspa                1537 non-null   float64\n",
      " 13  latitude                      71648 non-null  float64\n",
      " 14  longitude                     71648 non-null  float64\n",
      " 15  lotsizesquarefeet             63598 non-null  float64\n",
      " 16  poolcnt                       15643 non-null  float64\n",
      " 17  poolsizesum                   862 non-null    float64\n",
      " 18  pooltypeid10                  463 non-null    float64\n",
      " 19  pooltypeid2                   1074 non-null   float64\n",
      " 20  pooltypeid7                   14551 non-null  float64\n",
      " 21  propertycountylandusecode     71648 non-null  object \n",
      " 22  propertyzoningdesc            45093 non-null  object \n",
      " 23  rawcensustractandblock        71648 non-null  float64\n",
      " 24  regionidcity                  70327 non-null  float64\n",
      " 25  regionidcounty                71648 non-null  float64\n",
      " 26  regionidneighborhood          27975 non-null  float64\n",
      " 27  regionidzip                   71607 non-null  float64\n",
      " 28  roomcnt                       71648 non-null  float64\n",
      " 29  threequarterbathnbr           10092 non-null  float64\n",
      " 30  unitcnt                       45122 non-null  float64\n",
      " 31  yardbuildingsqft17            2377 non-null   float64\n",
      " 32  yardbuildingsqft26            70 non-null     float64\n",
      " 33  yearbuilt                     71606 non-null  float64\n",
      " 34  numberofstories               17319 non-null  float64\n",
      " 35  fireplaceflag                 172 non-null    float64\n",
      " 36  structuretaxvaluedollarcnt    71571 non-null  float64\n",
      " 37  taxvaluedollarcnt             71647 non-null  float64\n",
      " 38  assessmentyear                71648 non-null  float64\n",
      " 39  landtaxvaluedollarcnt         71647 non-null  float64\n",
      " 40  taxamount                     71643 non-null  float64\n",
      " 41  taxdelinquencyflag            2588 non-null   object \n",
      " 42  logerror                      71648 non-null  float64\n",
      " 43  transactiondate               71648 non-null  object \n",
      " 44  airconditioningdesc           22874 non-null  object \n",
      " 45  architecturalstyledesc        206 non-null    object \n",
      " 46  buildingclassdesc             0 non-null      object \n",
      " 47  heatingorsystemdesc           46356 non-null  object \n",
      " 48  propertylandusedesc           71648 non-null  object \n",
      " 49  storydesc                     50 non-null     object \n",
      " 50  typeconstructiondesc          222 non-null    object \n",
      "dtypes: float64(38), int64(2), object(11)\n",
      "memory usage: 28.4+ MB\n"
     ]
    }
   ],
   "source": [
    "df.info()"
   ]
  },
  {
   "cell_type": "markdown",
   "metadata": {},
   "source": [
    "---\n",
    "Totally didn't spend forever cleaning it, and it's only halfway clean."
   ]
  },
  {
   "cell_type": "markdown",
   "metadata": {},
   "source": [
    "------"
   ]
  },
  {
   "cell_type": "markdown",
   "metadata": {},
   "source": [
    "\n",
    "1. Ask at least 5 questions about the data, keeping in mind that your target variable is logerror. e.g. Is logerror significantly different for properties in LA County vs Orange County vs Ventura County?\n"
   ]
  },
  {
   "cell_type": "markdown",
   "metadata": {},
   "source": [
    "- Is logerror significantly different for houses with pools vs without?\n",
    "- Is logerror significantly different for houses with bathrooms above the median bathroom count vs. below it?\n",
    "- Is logerror significantly different for houses with garages vs without?\n",
    "- Is there a difference in logerror for houses with above the mean property size, vs below it?\n",
    "- Does a fireplace play a role in the logerror vs not having one?"
   ]
  },
  {
   "cell_type": "markdown",
   "metadata": {},
   "source": [
    "\n",
    "2. Answer those questions through a mix of statistical tests and visualizations.\n"
   ]
  },
  {
   "cell_type": "markdown",
   "metadata": {},
   "source": [
    "- Is logerror significantly different for houses with pools vs without?\n"
   ]
  },
  {
   "cell_type": "code",
   "execution_count": 66,
   "metadata": {},
   "outputs": [
    {
     "data": {
      "text/plain": [
       "array([nan,  1.])"
      ]
     },
     "execution_count": 66,
     "metadata": {},
     "output_type": "execute_result"
    }
   ],
   "source": [
    "df.poolcnt.unique()"
   ]
  },
  {
   "cell_type": "code",
   "execution_count": 67,
   "metadata": {},
   "outputs": [],
   "source": [
    "df.poolcnt = df.poolcnt.fillna(0)"
   ]
  },
  {
   "cell_type": "code",
   "execution_count": 68,
   "metadata": {},
   "outputs": [],
   "source": [
    "df.poolcnt = df.poolcnt.astype(int)"
   ]
  },
  {
   "cell_type": "markdown",
   "metadata": {},
   "source": [
    "> More Cleaning. 0 = No pool 1 = Pool (since there isn't really any houses here with more than one.) No more 0.0, 1.0 going better binary"
   ]
  },
  {
   "cell_type": "code",
   "execution_count": 69,
   "metadata": {},
   "outputs": [],
   "source": [
    "df = wrangle.remove_outliers(df,col_list=[\"logerror\"])"
   ]
  },
  {
   "cell_type": "code",
   "execution_count": 70,
   "metadata": {},
   "outputs": [],
   "source": [
    "train, validate, test = wrangle.train_split(df)"
   ]
  },
  {
   "cell_type": "markdown",
   "metadata": {},
   "source": [
    "-----------\n"
   ]
  },
  {
   "cell_type": "markdown",
   "metadata": {},
   "source": [
    "\n",
    "\n",
    "-----------"
   ]
  },
  {
   "cell_type": "code",
   "execution_count": 71,
   "metadata": {},
   "outputs": [
    {
     "name": "stdout",
     "output_type": "stream",
     "text": [
      "DF Mean Log Error:\n",
      "     0.005773061331707612\n",
      "Mean Log Error Without Pool | Mean Log Error with Pool\n",
      "     0.00627264441960283    |     0.003989434197381236\n",
      "\n"
     ]
    }
   ],
   "source": [
    "df.logerror[df.poolcnt == 0], df.logerror[df.poolcnt == 1]\n",
    "print(f'''DF Mean Log Error:\n",
    "     {df.logerror.mean()}\n",
    "Mean Log Error Without Pool | Mean Log Error with Pool\n",
    "     {df.logerror[df.poolcnt == 0].mean()}    |     {df.logerror[df.poolcnt == 1].mean()}\n",
    "''')"
   ]
  },
  {
   "cell_type": "markdown",
   "metadata": {},
   "source": [
    "> Just looking at this you can see the Mean Log Error is actually a bit lower with a Pool, where as Without a pool is slightly higher than the total mean Log Error."
   ]
  },
  {
   "cell_type": "code",
   "execution_count": 72,
   "metadata": {},
   "outputs": [
    {
     "data": {
      "image/png": "[encoded data removed]",
      "text/plain": [
       "<Figure size 432x288 with 1 Axes>"
      ]
     },
     "metadata": {
      "needs_background": "light"
     },
     "output_type": "display_data"
    }
   ],
   "source": [
    "sns.boxplot(train.poolcnt, train.logerror)\n",
    "plt.title('what is the relationship between having a pool and logerror')\n",
    "plt.show()"
   ]
  },
  {
   "cell_type": "code",
   "execution_count": 73,
   "metadata": {},
   "outputs": [
    {
     "data": {
      "image/png": "[encoded data removed]",
      "text/plain": [
       "<Figure size 432x288 with 1 Axes>"
      ]
     },
     "metadata": {
      "needs_background": "light"
     },
     "output_type": "display_data"
    }
   ],
   "source": [
    "sns.barplot(data=train, x=\"poolcnt\", y=\"logerror\")\n",
    "rate = df[\"logerror\"].mean()\n",
    "plt.axhline(rate, label= 'average Log Error rate')\n",
    "plt.legend()\n",
    "plt.title('Log Error rate by Pool')\n",
    "plt.show()"
   ]
  },
  {
   "cell_type": "markdown",
   "metadata": {},
   "source": [
    "-----"
   ]
  },
  {
   "cell_type": "markdown",
   "metadata": {},
   "source": [
    "-------"
   ]
  },
  {
   "cell_type": "markdown",
   "metadata": {},
   "source": [
    "- Is logerror significantly different for houses with bathrooms above the median bathroom count vs. below it?\n"
   ]
  },
  {
   "cell_type": "code",
   "execution_count": 78,
   "metadata": {},
   "outputs": [
    {
     "name": "stdout",
     "output_type": "stream",
     "text": [
      "DF Mean Log Error:\n",
      "     0.005773061331707612\n",
      "Mean Log Error by Bathroom Count\n",
      "     0.0019410788051178313\n",
      "     0.00429636527913072\n",
      "     0.003641159962205795\n",
      "     0.007695589125025683\n",
      "     0.008065745650604934\n",
      "     0.01411466660211481\n",
      "     0.01385230555269564\n",
      "     0.016521358475961277\n",
      "     0.021627240335274255\n",
      "     0.02560786750304869\n",
      "     0.027596787727183048\n",
      "     0.03630070316686976\n",
      "     0.029511915893345616\n",
      "     0.012247997869192843\n",
      "     0.03872787644402551\n",
      "     0.0630671722121\n",
      "     0.05549519690043749\n",
      "     0.09262867952185\n",
      "     0.0131380611632999\n",
      "\n"
     ]
    }
   ],
   "source": [
    "print(f'''DF Mean Log Error:\n",
    "     {df.logerror.mean()}\n",
    "Mean Log Error by Bathroom Count\n",
    "     {df.logerror[df.bathroomcnt == 1].mean()}\n",
    "     {df.logerror[df.bathroomcnt == 1.5].mean()}\n",
    "     {df.logerror[df.bathroomcnt == 2].mean()}\n",
    "     {df.logerror[df.bathroomcnt == 2.5].mean()}\n",
    "     {df.logerror[df.bathroomcnt == 3].mean()}\n",
    "     {df.logerror[df.bathroomcnt == 3.5].mean()}\n",
    "     {df.logerror[df.bathroomcnt == 4].mean()}\n",
    "     {df.logerror[df.bathroomcnt == 4.5].mean()}\n",
    "     {df.logerror[df.bathroomcnt == 5].mean()}\n",
    "     {df.logerror[df.bathroomcnt == 5.5].mean()}\n",
    "     {df.logerror[df.bathroomcnt == 6].mean()}\n",
    "     {df.logerror[df.bathroomcnt == 6.5].mean()}\n",
    "     {df.logerror[df.bathroomcnt == 7].mean()}\n",
    "     {df.logerror[df.bathroomcnt == 7.5].mean()}\n",
    "     {df.logerror[df.bathroomcnt == 8].mean()}\n",
    "     {df.logerror[df.bathroomcnt == 8.5].mean()}\n",
    "     {df.logerror[df.bathroomcnt == 9].mean()}\n",
    "     {df.logerror[df.bathroomcnt == 10].mean()}\n",
    "     {df.logerror[df.bathroomcnt == 13].mean()}\n",
    "''')"
   ]
  },
  {
   "cell_type": "code",
   "execution_count": 75,
   "metadata": {},
   "outputs": [
    {
     "data": {
      "text/plain": [
       "<AxesSubplot:xlabel='bathroomcnt', ylabel='logerror'>"
      ]
     },
     "execution_count": 75,
     "metadata": {},
     "output_type": "execute_result"
    },
    {
     "data": {
      "image/png": "[encoded data removed]",
      "text/plain": [
       "<Figure size 432x288 with 1 Axes>"
      ]
     },
     "metadata": {
      "needs_background": "light"
     },
     "output_type": "display_data"
    }
   ],
   "source": [
    "sns.barplot(data=train, x=\"bathroomcnt\", y=\"logerror\")"
   ]
  },
  {
   "cell_type": "markdown",
   "metadata": {},
   "source": [
    "- Is logerror significantly different for houses with garages vs without?\n"
   ]
  },
  {
   "cell_type": "markdown",
   "metadata": {},
   "source": [
    "- Is there a difference in logerror for houses with above the mean property size, vs below it?\n"
   ]
  },
  {
   "cell_type": "markdown",
   "metadata": {},
   "source": [
    "- Does a fireplace play a role in the logerror vs not having one?"
   ]
  },
  {
   "cell_type": "markdown",
   "metadata": {},
   "source": [
    "\n",
    "**Bonus:**\n",
    "\n",
    "-Compute the mean(logerror) by zipcode and the overall mean(logerror). Write a loop that will run a t-test between the overall mean and the mean for each zip code. We want to identify the zip codes where the error is significantly higher or lower than the expected error."
   ]
  },
  {
   "cell_type": "code",
   "execution_count": 77,
   "metadata": {},
   "outputs": [
    {
     "data": {
      "text/plain": [
       "385"
      ]
     },
     "execution_count": 77,
     "metadata": {},
     "output_type": "execute_result"
    }
   ],
   "source": [
    "df.regionidzip.nunique()"
   ]
  }
 ],
 "metadata": {
  "kernelspec": {
   "display_name": "Python 3.9.12 ('base')",
   "language": "python",
   "name": "python3"
  },
  "language_info": {
   "codemirror_mode": {
    "name": "ipython",
    "version": 3
   },
   "file_extension": ".py",
   "mimetype": "text/x-python",
   "name": "python",
   "nbconvert_exporter": "python",
   "pygments_lexer": "ipython3",
   "version": "3.9.12"
  },
  "orig_nbformat": 4,
  "vscode": {
   "interpreter": {
    "hash": "3067ead486e059ec00ffe7555bdb889e6e264a24dc711bf108106cc7baee8d5d"
   }
  }
 },
 "nbformat": 4,
 "nbformat_minor": 2
}
